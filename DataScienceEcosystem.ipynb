{
 "cells": [
  {
   "cell_type": "markdown",
   "id": "1d098e67-4ec3-4b02-9f91-6ebc2694f17e",
   "metadata": {
    "tags": []
   },
   "source": [
    "# Data Science Tools and Ecosystem"
   ]
  },
  {
   "cell_type": "markdown",
   "id": "cbb5e8fb-2dd5-40d0-863d-023b4961b895",
   "metadata": {},
   "source": [
    "In this notebook, Data Science Tools and Ecosystem are summarized."
   ]
  },
  {
   "cell_type": "markdown",
   "id": "c6207714-8eed-43c7-88d6-5b1ffc63468d",
   "metadata": {},
   "source": [
    "Some of the popular languages that Data Scientists use are:          \n",
    "<dd>1. Python</dd>\n",
    "<dd>2. SQL</dd>\n",
    "<dd>3. R</dd>\n"
   ]
  },
  {
   "cell_type": "markdown",
   "id": "64792e98-877c-4544-82f9-5946ec54b632",
   "metadata": {},
   "source": [
    "Some of the commonly used libraries used by Data Scientists include:\n",
    "<dd>1. NumPy</dd> \n",
    "<dd>2. pandas</dd>\n",
    "<dd>3. scikit-learn</dd>"
   ]
  },
  {
   "cell_type": "markdown",
   "id": "b4853b6e-4fcf-4944-b4fb-de40363f7031",
   "metadata": {},
   "source": [
    "| Data Science Tools         |\n",
    "|----------------------------|\n",
    "| Jupyter Notebook           |\n",
    "| RStudio                    |\n",
    "| Apache Zeppelin            |"
   ]
  },
  {
   "cell_type": "markdown",
   "id": "87109b37-2726-4091-87a7-45a893d11a36",
   "metadata": {},
   "source": [
    "### Below are a few examples of evaluating arithmetic expressions in Python."
   ]
  },
  {
   "cell_type": "code",
   "execution_count": null,
   "id": "9a96c76c-57ce-46a8-a75f-2f75a175622e",
   "metadata": {},
   "outputs": [
    {
     "data": {
      "text/plain": [
       "17"
      ]
     },
     "execution_count": 1,
     "metadata": {},
     "output_type": "execute_result"
    }
   ],
   "source": [
    "# This is a simple arithmetic expression to multiply then add integers.\n",
    "(3 * 4) + 5"
   ]
  },
  {
   "cell_type": "code",
   "execution_count": 2,
   "id": "146192b9-6bfd-41ec-bf2b-b5e3969770ba",
   "metadata": {},
   "outputs": [
    {
     "data": {
      "text/plain": [
       "3.3333333333333335"
      ]
     },
     "execution_count": 2,
     "metadata": {},
     "output_type": "execute_result"
    }
   ],
   "source": [
    "# This will convert 200 minutes to hours by dividing by 60.\n",
    "200 / 60"
   ]
  },
  {
   "cell_type": "markdown",
   "id": "a4a28c92-7c9e-4abd-8f10-a2465e7b056f",
   "metadata": {},
   "source": [
    "**Objectives:**\n",
    "\n",
    "- R\n",
    "- Python\n",
    "- SQL\n",
    "- Java\n",
    "- Scala"
   ]
  },
  {
   "cell_type": "markdown",
   "id": "0b8b9336-a4a6-4fdb-9ffa-27b25fce36f4",
   "metadata": {},
   "source": [
    "## Author\n",
    "\n",
    "Youcef Bessaa"
   ]
  }
 ],
 "metadata": {
  "kernelspec": {
   "display_name": "Python 3 (ipykernel)",
   "language": "python",
   "name": "python3"
  },
  "language_info": {
   "codemirror_mode": {
    "name": "ipython",
    "version": 3
   },
   "file_extension": ".py",
   "mimetype": "text/x-python",
   "name": "python",
   "nbconvert_exporter": "python",
   "pygments_lexer": "ipython3",
   "version": "3.10.9"
  }
 },
 "nbformat": 4,
 "nbformat_minor": 5
}
